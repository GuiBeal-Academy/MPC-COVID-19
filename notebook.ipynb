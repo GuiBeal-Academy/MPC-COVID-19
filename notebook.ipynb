{
 "cells": [
  {
   "cell_type": "markdown",
   "metadata": {},
   "source": [
    "# MPC COVID-19"
   ]
  },
  {
   "cell_type": "markdown",
   "metadata": {},
   "source": [
    "## Modelling"
   ]
  },
  {
   "cell_type": "markdown",
   "metadata": {},
   "source": [
    "### Variables\n",
    "\n",
    "| Variable       | Description                                 |\n",
    "|:--------------:|:-------------------------------------------:|\n",
    "| $P_k$          | Total individuals in age group $k$          |\n",
    "| $S_k$          | Susceptible individuals from age group $k$  |\n",
    "| $I_k$          | Infected individuals from age group $k$     |\n",
    "| $R_k$          | Recovered individuals from age group $k$    |\n",
    "| $D_k$          | Deceased individuals from age group $k$     |\n",
    "| $U_k$          | Vaccination rate for age group $k$          |\n",
    "| $\\lambda_k$    | Infection rate for age group $k$            |\n",
    "| $C_{j,k}$      | Contact rate between age groups $j$ and $k$ |\n",
    "| $\\gamma_{R,k}$ | Recovery rate for age group $k$             |\n",
    "| $\\gamma_{D,k}$ | Decease rate for age group $k$              |\n",
    "| $n_a$          | Number of age groups                        |"
   ]
  },
  {
   "cell_type": "markdown",
   "metadata": {},
   "source": [
    "### Continous Model\n",
    "\n",
    "$$\n",
    "\\left\\{\\begin{aligned}\n",
    "\\frac{d \\, S_k(t)}{dt} &= -\\lambda_k \\, S_k(t) \\, \\sum_{j=1}^{n_a} C_{j,k} \\, I_j(t) - U_k(t)\n",
    "\\\\\n",
    "\\frac{d \\, I_k(t)}{dt} &= \\lambda_k \\, S_k(t) \\, \\sum_{j=1}^{n_a} C_{k,j} \\, I_j(t) - (\\gamma_{R,k} + \\gamma_{D,k}) \\, I_k(t)\n",
    "\\\\\n",
    "\\frac{d \\, R_k(t)}{dt} &= \\gamma_{R,k} \\, I_k(t) + U_k(t)\n",
    "\\\\\n",
    "\\frac{d \\, D_k(t)}{dt} &= \\gamma_{D,k} \\, I_k(t)\n",
    "\\end{aligned}\\right.\n",
    "\\;,\\, k = 1, \\dotsc, n_a\n",
    "$$"
   ]
  },
  {
   "cell_type": "markdown",
   "metadata": {},
   "source": [
    "### Discrete Model\n",
    "\n",
    "$$\n",
    "\\left\\{\\begin{aligned}\n",
    "S_k(n+1) &= S_k(n) + \\Delta_t \\, \\left( -\\lambda_k \\, S_k(n) \\, \\sum_{j=1}^{n_a} C_{j,k} \\, I_j(n) - U_k(n) \\right)\n",
    "\\\\\n",
    "I_k(n+1) &= I_k(n) + \\Delta_t \\, \\left( \\lambda_k \\, S_k(n) \\, \\sum_{j=1}^{n_a} C_{k,j} \\, I_j(n) - (\\gamma_{R,k} + \\gamma_{D,k}) \\, I_k(n) \\right)\n",
    "\\\\\n",
    "R_k(n+1) &= R_k(n) + \\Delta_t \\, \\left( \\gamma_{R,k} \\, I_k(n) + U_k(n) \\right)\n",
    "\\\\\n",
    "D_k(n+1) &= D_k(n) + \\Delta_t \\, \\left( \\gamma_{D,k} \\, I_k(n) \\right)\n",
    "\\end{aligned}\\right.\n",
    "\\;,\\, k = 1, \\dotsc, n_a\n",
    "$$\n",
    "Considering $\\Delta_t = 1$\n",
    "$$\n",
    "\\left\\{\\begin{aligned}\n",
    "S_k(n+1) &= S_k(n) - \\lambda_k \\, S_k(n) \\, \\sum_{j=1}^{n_a} C_{j,k} \\, I_j(n) - U_k(n)\n",
    "\\\\\n",
    "I_k(n+1) &= I_k(n) + \\lambda_k \\, S_k(n) \\, \\sum_{j=1}^{n_a} C_{k,j} \\, I_j(n) - (\\gamma_{R,k} + \\gamma_{D,k}) \\, I_k(n)\n",
    "\\\\\n",
    "R_k(n+1) &= R_k(n) + \\gamma_{R,k} \\, I_k(n) + U_k(n)\n",
    "\\\\\n",
    "D_k(n+1) &= D_k(n) + \\gamma_{D,k} \\, I_k(n)\n",
    "\\end{aligned}\\right.\n",
    "\\;,\\, k = 1, \\dotsc, n_a\n",
    "$$"
   ]
  },
  {
   "cell_type": "markdown",
   "metadata": {},
   "source": [
    "## Simulation"
   ]
  },
  {
   "cell_type": "markdown",
   "metadata": {},
   "source": [
    "### Definitions"
   ]
  },
  {
   "cell_type": "code",
   "execution_count": 3,
   "metadata": {},
   "outputs": [],
   "source": [
    "import numpy as np\n",
    "import csv\n",
    "\n",
    "P = np.array([1058304,915796,983789,384803,203035,99516])\n",
    "n_a = len(P)\n",
    "\n",
    "I_0 = 0.1/100*P\n",
    "S_0 = P - I_0\n",
    "R_0 = np.zeros(n_a)\n",
    "D_0 = np.zeros(n_a)\n",
    "\n",
    "l   = np.repeat(0.05, n_a)\n",
    "g_R = np.array([0.7657411   ,0.7842402  ,0.8012127 ,0.9018488 ,0.2802379 ,0.5864928 ])\n",
    "g_D = np.array([0.0015683025,0.004833996,0.09288585,0.09685946,0.17079121,0.56594825])\n",
    "\n",
    "with open(\"./contact.csv\", 'r') as f:\n",
    "  reader = csv.reader(f)\n",
    "  data = list(reader)\n",
    "C = np.array(data, dtype=float)\n",
    "\n",
    "U_max = 55191"
   ]
  }
 ],
 "metadata": {
  "kernelspec": {
   "display_name": "base",
   "language": "python",
   "name": "python3"
  },
  "language_info": {
   "codemirror_mode": {
    "name": "ipython",
    "version": 3
   },
   "file_extension": ".py",
   "mimetype": "text/x-python",
   "name": "python",
   "nbconvert_exporter": "python",
   "pygments_lexer": "ipython3",
   "version": "3.9.12"
  }
 },
 "nbformat": 4,
 "nbformat_minor": 2
}
